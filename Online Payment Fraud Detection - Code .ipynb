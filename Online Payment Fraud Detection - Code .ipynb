{
 "cells": [
  {
   "cell_type": "code",
   "execution_count": 1,
   "id": "8c3b678f",
   "metadata": {},
   "outputs": [
    {
     "data": {
      "text/html": [
       "<style>.container {width:100% !important;}</style>"
      ],
      "text/plain": [
       "<IPython.core.display.HTML object>"
      ]
     },
     "metadata": {},
     "output_type": "display_data"
    },
    {
     "data": {
      "text/html": [
       "<style> div.prompt {display:none}</style>"
      ],
      "text/plain": [
       "<IPython.core.display.HTML object>"
      ]
     },
     "metadata": {},
     "output_type": "display_data"
    }
   ],
   "source": [
    "import warnings\n",
    "warnings.filterwarnings('ignore')\n",
    "import pandas as pd\n",
    "import numpy as np\n",
    "from numpy import array\n",
    "from matplotlib import pyplot as plt\n",
    "import scipy;\n",
    "import seaborn as sns\n",
    "from sklearn.ensemble import RandomForestClassifier\n",
    "from sklearn.linear_model import LogisticRegression\n",
    "from sklearn.metrics import mean_absolute_error\n",
    "from sklearn.metrics import confusion_matrix, mean_squared_error, r2_score\n",
    "from sklearn.metrics import roc_auc_score as roc\n",
    "from sklearn.model_selection import GridSearchCV\n",
    "from sklearn.model_selection import train_test_split\n",
    "from sklearn.neural_network import MLPRegressor\n",
    "from sklearn.preprocessing import StandardScaler\n",
    "from sklearn.utils import resample\n",
    "from keras.layers import Dense, Conv1D, Flatten\n",
    "from tensorflow.keras.models import Sequential\n",
    "from tensorflow.keras.optimizers import Adam\n",
    "\n",
    "from IPython.display import display, HTML\n",
    "display(HTML(\"<style>.container {width:100% !important;}</style>\"))\n",
    "display(HTML(\"<style> div.prompt {display:none}</style>\"))"
   ]
  },
  {
   "cell_type": "code",
   "execution_count": 2,
   "id": "e7991287",
   "metadata": {},
   "outputs": [],
   "source": [
    "# Import the dataset as dataframe\n",
    "\n",
    "df = pd.read_csv(\"onlinefraud.csv\", sep=\",\", names=[\"Step\", \"PaymentType\", \"Amount\", \"NameOrg\", \"OldBalanceOrg\", \"NewBalanceOrg\", \"NameDest\", \"OldBalanceDest\", \n",
    "                                                     \"NewBalanceDest\", \"IsFraud\", \"IsFlaggedFraud\"], index_col=False, header=0)"
   ]
  },
  {
   "cell_type": "code",
   "execution_count": 3,
   "id": "ad44168d",
   "metadata": {},
   "outputs": [
    {
     "data": {
      "text/html": [
       "<div>\n",
       "<style scoped>\n",
       "    .dataframe tbody tr th:only-of-type {\n",
       "        vertical-align: middle;\n",
       "    }\n",
       "\n",
       "    .dataframe tbody tr th {\n",
       "        vertical-align: top;\n",
       "    }\n",
       "\n",
       "    .dataframe thead th {\n",
       "        text-align: right;\n",
       "    }\n",
       "</style>\n",
       "<table border=\"1\" class=\"dataframe\">\n",
       "  <thead>\n",
       "    <tr style=\"text-align: right;\">\n",
       "      <th></th>\n",
       "      <th>Step</th>\n",
       "      <th>PaymentType</th>\n",
       "      <th>Amount</th>\n",
       "      <th>NameOrg</th>\n",
       "      <th>OldBalanceOrg</th>\n",
       "      <th>NewBalanceOrg</th>\n",
       "      <th>NameDest</th>\n",
       "      <th>OldBalanceDest</th>\n",
       "      <th>NewBalanceDest</th>\n",
       "      <th>IsFraud</th>\n",
       "      <th>IsFlaggedFraud</th>\n",
       "    </tr>\n",
       "  </thead>\n",
       "  <tbody>\n",
       "    <tr>\n",
       "      <th>0</th>\n",
       "      <td>1</td>\n",
       "      <td>PAYMENT</td>\n",
       "      <td>9839.64</td>\n",
       "      <td>C1231006815</td>\n",
       "      <td>170136.0</td>\n",
       "      <td>160296.36</td>\n",
       "      <td>M1979787155</td>\n",
       "      <td>0.0</td>\n",
       "      <td>0.0</td>\n",
       "      <td>0</td>\n",
       "      <td>0</td>\n",
       "    </tr>\n",
       "    <tr>\n",
       "      <th>1</th>\n",
       "      <td>1</td>\n",
       "      <td>PAYMENT</td>\n",
       "      <td>1864.28</td>\n",
       "      <td>C1666544295</td>\n",
       "      <td>21249.0</td>\n",
       "      <td>19384.72</td>\n",
       "      <td>M2044282225</td>\n",
       "      <td>0.0</td>\n",
       "      <td>0.0</td>\n",
       "      <td>0</td>\n",
       "      <td>0</td>\n",
       "    </tr>\n",
       "    <tr>\n",
       "      <th>2</th>\n",
       "      <td>1</td>\n",
       "      <td>TRANSFER</td>\n",
       "      <td>181.00</td>\n",
       "      <td>C1305486145</td>\n",
       "      <td>181.0</td>\n",
       "      <td>0.00</td>\n",
       "      <td>C553264065</td>\n",
       "      <td>0.0</td>\n",
       "      <td>0.0</td>\n",
       "      <td>1</td>\n",
       "      <td>0</td>\n",
       "    </tr>\n",
       "    <tr>\n",
       "      <th>3</th>\n",
       "      <td>1</td>\n",
       "      <td>CASH_OUT</td>\n",
       "      <td>181.00</td>\n",
       "      <td>C840083671</td>\n",
       "      <td>181.0</td>\n",
       "      <td>0.00</td>\n",
       "      <td>C38997010</td>\n",
       "      <td>21182.0</td>\n",
       "      <td>0.0</td>\n",
       "      <td>1</td>\n",
       "      <td>0</td>\n",
       "    </tr>\n",
       "    <tr>\n",
       "      <th>4</th>\n",
       "      <td>1</td>\n",
       "      <td>PAYMENT</td>\n",
       "      <td>11668.14</td>\n",
       "      <td>C2048537720</td>\n",
       "      <td>41554.0</td>\n",
       "      <td>29885.86</td>\n",
       "      <td>M1230701703</td>\n",
       "      <td>0.0</td>\n",
       "      <td>0.0</td>\n",
       "      <td>0</td>\n",
       "      <td>0</td>\n",
       "    </tr>\n",
       "  </tbody>\n",
       "</table>\n",
       "</div>"
      ],
      "text/plain": [
       "   Step PaymentType    Amount      NameOrg  OldBalanceOrg  NewBalanceOrg  \\\n",
       "0     1     PAYMENT   9839.64  C1231006815       170136.0      160296.36   \n",
       "1     1     PAYMENT   1864.28  C1666544295        21249.0       19384.72   \n",
       "2     1    TRANSFER    181.00  C1305486145          181.0           0.00   \n",
       "3     1    CASH_OUT    181.00   C840083671          181.0           0.00   \n",
       "4     1     PAYMENT  11668.14  C2048537720        41554.0       29885.86   \n",
       "\n",
       "      NameDest  OldBalanceDest  NewBalanceDest  IsFraud  IsFlaggedFraud  \n",
       "0  M1979787155             0.0             0.0        0               0  \n",
       "1  M2044282225             0.0             0.0        0               0  \n",
       "2   C553264065             0.0             0.0        1               0  \n",
       "3    C38997010         21182.0             0.0        1               0  \n",
       "4  M1230701703             0.0             0.0        0               0  "
      ]
     },
     "execution_count": 3,
     "metadata": {},
     "output_type": "execute_result"
    }
   ],
   "source": [
    "# View top 5 rows of the dataset\n",
    "df.head()"
   ]
  },
  {
   "cell_type": "code",
   "execution_count": 4,
   "id": "06292c5d",
   "metadata": {},
   "outputs": [
    {
     "data": {
      "text/plain": [
       "(6362620, 11)"
      ]
     },
     "execution_count": 4,
     "metadata": {},
     "output_type": "execute_result"
    }
   ],
   "source": [
    "# Check number of observations and variables in dataset\n",
    "\n",
    "df.shape\n",
    "\n",
    "# There are 6362620 observations (rows) and 11 variables (columns)."
   ]
  },
  {
   "cell_type": "code",
   "execution_count": 5,
   "id": "21530b0a",
   "metadata": {},
   "outputs": [
    {
     "name": "stdout",
     "output_type": "stream",
     "text": [
      "<class 'pandas.core.frame.DataFrame'>\n",
      "RangeIndex: 6362620 entries, 0 to 6362619\n",
      "Data columns (total 11 columns):\n",
      " #   Column          Dtype  \n",
      "---  ------          -----  \n",
      " 0   Step            int64  \n",
      " 1   PaymentType     object \n",
      " 2   Amount          float64\n",
      " 3   NameOrg         object \n",
      " 4   OldBalanceOrg   float64\n",
      " 5   NewBalanceOrg   float64\n",
      " 6   NameDest        object \n",
      " 7   OldBalanceDest  float64\n",
      " 8   NewBalanceDest  float64\n",
      " 9   IsFraud         int64  \n",
      " 10  IsFlaggedFraud  int64  \n",
      "dtypes: float64(5), int64(3), object(3)\n",
      "memory usage: 534.0+ MB\n"
     ]
    }
   ],
   "source": [
    "# Check datatype for all the variables\n",
    "df.info()"
   ]
  },
  {
   "cell_type": "code",
   "execution_count": 6,
   "id": "30fed4e2",
   "metadata": {},
   "outputs": [],
   "source": [
    "# Use category data type for categorical column\n",
    "df['PaymentType'] = df['PaymentType'].astype('category')"
   ]
  },
  {
   "cell_type": "code",
   "execution_count": 7,
   "id": "f73a1b09",
   "metadata": {},
   "outputs": [
    {
     "data": {
      "text/html": [
       "<div>\n",
       "<style scoped>\n",
       "    .dataframe tbody tr th:only-of-type {\n",
       "        vertical-align: middle;\n",
       "    }\n",
       "\n",
       "    .dataframe tbody tr th {\n",
       "        vertical-align: top;\n",
       "    }\n",
       "\n",
       "    .dataframe thead th {\n",
       "        text-align: right;\n",
       "    }\n",
       "</style>\n",
       "<table border=\"1\" class=\"dataframe\">\n",
       "  <thead>\n",
       "    <tr style=\"text-align: right;\">\n",
       "      <th></th>\n",
       "      <th>Step</th>\n",
       "      <th>Amount</th>\n",
       "      <th>OldBalanceOrg</th>\n",
       "      <th>NewBalanceOrg</th>\n",
       "      <th>OldBalanceDest</th>\n",
       "      <th>NewBalanceDest</th>\n",
       "      <th>IsFraud</th>\n",
       "      <th>IsFlaggedFraud</th>\n",
       "    </tr>\n",
       "  </thead>\n",
       "  <tbody>\n",
       "    <tr>\n",
       "      <th>count</th>\n",
       "      <td>6362620.00</td>\n",
       "      <td>6362620.00</td>\n",
       "      <td>6362620.00</td>\n",
       "      <td>6362620.00</td>\n",
       "      <td>6.362620e+06</td>\n",
       "      <td>6.362620e+06</td>\n",
       "      <td>6362620.00</td>\n",
       "      <td>6362620.0</td>\n",
       "    </tr>\n",
       "    <tr>\n",
       "      <th>mean</th>\n",
       "      <td>243.40</td>\n",
       "      <td>179861.90</td>\n",
       "      <td>833883.10</td>\n",
       "      <td>855113.67</td>\n",
       "      <td>1.100702e+06</td>\n",
       "      <td>1.224996e+06</td>\n",
       "      <td>0.00</td>\n",
       "      <td>0.0</td>\n",
       "    </tr>\n",
       "    <tr>\n",
       "      <th>std</th>\n",
       "      <td>142.33</td>\n",
       "      <td>603858.23</td>\n",
       "      <td>2888242.67</td>\n",
       "      <td>2924048.50</td>\n",
       "      <td>3.399180e+06</td>\n",
       "      <td>3.674129e+06</td>\n",
       "      <td>0.04</td>\n",
       "      <td>0.0</td>\n",
       "    </tr>\n",
       "    <tr>\n",
       "      <th>min</th>\n",
       "      <td>1.00</td>\n",
       "      <td>0.00</td>\n",
       "      <td>0.00</td>\n",
       "      <td>0.00</td>\n",
       "      <td>0.000000e+00</td>\n",
       "      <td>0.000000e+00</td>\n",
       "      <td>0.00</td>\n",
       "      <td>0.0</td>\n",
       "    </tr>\n",
       "    <tr>\n",
       "      <th>25%</th>\n",
       "      <td>156.00</td>\n",
       "      <td>13389.57</td>\n",
       "      <td>0.00</td>\n",
       "      <td>0.00</td>\n",
       "      <td>0.000000e+00</td>\n",
       "      <td>0.000000e+00</td>\n",
       "      <td>0.00</td>\n",
       "      <td>0.0</td>\n",
       "    </tr>\n",
       "    <tr>\n",
       "      <th>50%</th>\n",
       "      <td>239.00</td>\n",
       "      <td>74871.94</td>\n",
       "      <td>14208.00</td>\n",
       "      <td>0.00</td>\n",
       "      <td>1.327057e+05</td>\n",
       "      <td>2.146614e+05</td>\n",
       "      <td>0.00</td>\n",
       "      <td>0.0</td>\n",
       "    </tr>\n",
       "    <tr>\n",
       "      <th>75%</th>\n",
       "      <td>335.00</td>\n",
       "      <td>208721.48</td>\n",
       "      <td>107315.18</td>\n",
       "      <td>144258.41</td>\n",
       "      <td>9.430367e+05</td>\n",
       "      <td>1.111909e+06</td>\n",
       "      <td>0.00</td>\n",
       "      <td>0.0</td>\n",
       "    </tr>\n",
       "    <tr>\n",
       "      <th>max</th>\n",
       "      <td>743.00</td>\n",
       "      <td>92445516.64</td>\n",
       "      <td>59585040.37</td>\n",
       "      <td>49585040.37</td>\n",
       "      <td>3.560159e+08</td>\n",
       "      <td>3.561793e+08</td>\n",
       "      <td>1.00</td>\n",
       "      <td>1.0</td>\n",
       "    </tr>\n",
       "  </tbody>\n",
       "</table>\n",
       "</div>"
      ],
      "text/plain": [
       "             Step       Amount  OldBalanceOrg  NewBalanceOrg  OldBalanceDest  \\\n",
       "count  6362620.00   6362620.00     6362620.00     6362620.00    6.362620e+06   \n",
       "mean       243.40    179861.90      833883.10      855113.67    1.100702e+06   \n",
       "std        142.33    603858.23     2888242.67     2924048.50    3.399180e+06   \n",
       "min          1.00         0.00           0.00           0.00    0.000000e+00   \n",
       "25%        156.00     13389.57           0.00           0.00    0.000000e+00   \n",
       "50%        239.00     74871.94       14208.00           0.00    1.327057e+05   \n",
       "75%        335.00    208721.48      107315.18      144258.41    9.430367e+05   \n",
       "max        743.00  92445516.64    59585040.37    49585040.37    3.560159e+08   \n",
       "\n",
       "       NewBalanceDest     IsFraud  IsFlaggedFraud  \n",
       "count    6.362620e+06  6362620.00       6362620.0  \n",
       "mean     1.224996e+06        0.00             0.0  \n",
       "std      3.674129e+06        0.04             0.0  \n",
       "min      0.000000e+00        0.00             0.0  \n",
       "25%      0.000000e+00        0.00             0.0  \n",
       "50%      2.146614e+05        0.00             0.0  \n",
       "75%      1.111909e+06        0.00             0.0  \n",
       "max      3.561793e+08        1.00             1.0  "
      ]
     },
     "execution_count": 7,
     "metadata": {},
     "output_type": "execute_result"
    }
   ],
   "source": [
    "# Check summary statistics for all numeric variables\n",
    "df.describe().round(2)"
   ]
  },
  {
   "cell_type": "code",
   "execution_count": 8,
   "id": "aab89e64",
   "metadata": {},
   "outputs": [
    {
     "name": "stdout",
     "output_type": "stream",
     "text": [
      "Step              0\n",
      "PaymentType       0\n",
      "Amount            0\n",
      "NameOrg           0\n",
      "OldBalanceOrg     0\n",
      "NewBalanceOrg     0\n",
      "NameDest          0\n",
      "OldBalanceDest    0\n",
      "NewBalanceDest    0\n",
      "IsFraud           0\n",
      "IsFlaggedFraud    0\n",
      "dtype: int64\n"
     ]
    }
   ],
   "source": [
    "# Check NA values in all the variables\n",
    "\n",
    "print(df.isna().sum())"
   ]
  },
  {
   "cell_type": "code",
   "execution_count": 9,
   "id": "5e04c950",
   "metadata": {},
   "outputs": [
    {
     "data": {
      "text/plain": [
       "<Axes: xlabel='PaymentType', ylabel='count'>"
      ]
     },
     "execution_count": 9,
     "metadata": {},
     "output_type": "execute_result"
    },
    {
     "data": {
      "image/png": "[encoded data removed]",
      "text/plain": [
       "<Figure size 640x480 with 1 Axes>"
      ]
     },
     "metadata": {},
     "output_type": "display_data"
    }
   ],
   "source": [
    "# Barplot for Payment Type\n",
    "sns.countplot(x='PaymentType', data=df)"
   ]
  },
  {
   "cell_type": "code",
   "execution_count": 10,
   "id": "af5f350a",
   "metadata": {},
   "outputs": [
    {
     "data": {
      "text/plain": [
       "<Axes: xlabel='PaymentType', ylabel='Amount'>"
      ]
     },
     "execution_count": 10,
     "metadata": {},
     "output_type": "execute_result"
    },
    {
     "data": {
      "image/png": "[encoded data removed]",
      "text/plain": [
       "<Figure size 640x480 with 1 Axes>"
      ]
     },
     "metadata": {},
     "output_type": "display_data"
    }
   ],
   "source": [
    "# Barplot for Amount vs Payment Type\n",
    "\n",
    "sns.barplot(x='PaymentType', y='Amount', data=df)"
   ]
  },
  {
   "cell_type": "code",
   "execution_count": 11,
   "id": "c15e19c9",
   "metadata": {},
   "outputs": [
    {
     "name": "stdout",
     "output_type": "stream",
     "text": [
      "\n",
      "Correlation Heatmap\n"
     ]
    },
    {
     "data": {
      "image/png": "[encoded data removed]",
      "text/plain": [
       "<Figure size 640x480 with 2 Axes>"
      ]
     },
     "metadata": {},
     "output_type": "display_data"
    }
   ],
   "source": [
    "# Plot Correlation Heatmap\n",
    "print(\"\\nCorrelation Heatmap\");\n",
    "\n",
    "correlation_mat = df.corr()\n",
    "plt.clf()\n",
    "sns.heatmap(correlation_mat, annot = True)\n",
    "plt.show()\n",
    "\n",
    "corr = df.corr();"
   ]
  },
  {
   "cell_type": "code",
   "execution_count": 12,
   "id": "b685910d",
   "metadata": {},
   "outputs": [
    {
     "data": {
      "text/html": [
       "<div>\n",
       "<style scoped>\n",
       "    .dataframe tbody tr th:only-of-type {\n",
       "        vertical-align: middle;\n",
       "    }\n",
       "\n",
       "    .dataframe tbody tr th {\n",
       "        vertical-align: top;\n",
       "    }\n",
       "\n",
       "    .dataframe thead th {\n",
       "        text-align: right;\n",
       "    }\n",
       "</style>\n",
       "<table border=\"1\" class=\"dataframe\">\n",
       "  <thead>\n",
       "    <tr style=\"text-align: right;\">\n",
       "      <th></th>\n",
       "      <th>Step</th>\n",
       "      <th>PaymentType</th>\n",
       "      <th>Amount</th>\n",
       "      <th>NameOrg</th>\n",
       "      <th>OldBalanceOrg</th>\n",
       "      <th>NewBalanceOrg</th>\n",
       "      <th>NameDest</th>\n",
       "      <th>OldBalanceDest</th>\n",
       "      <th>NewBalanceDest</th>\n",
       "      <th>IsFraud</th>\n",
       "      <th>IsFlaggedFraud</th>\n",
       "      <th>CASH_OUT</th>\n",
       "      <th>DEBIT</th>\n",
       "      <th>PAYMENT</th>\n",
       "      <th>TRANSFER</th>\n",
       "    </tr>\n",
       "  </thead>\n",
       "  <tbody>\n",
       "    <tr>\n",
       "      <th>0</th>\n",
       "      <td>1</td>\n",
       "      <td>PAYMENT</td>\n",
       "      <td>9839.64</td>\n",
       "      <td>C1231006815</td>\n",
       "      <td>170136.0</td>\n",
       "      <td>160296.36</td>\n",
       "      <td>M1979787155</td>\n",
       "      <td>0.0</td>\n",
       "      <td>0.0</td>\n",
       "      <td>0</td>\n",
       "      <td>0</td>\n",
       "      <td>0</td>\n",
       "      <td>0</td>\n",
       "      <td>1</td>\n",
       "      <td>0</td>\n",
       "    </tr>\n",
       "    <tr>\n",
       "      <th>1</th>\n",
       "      <td>1</td>\n",
       "      <td>PAYMENT</td>\n",
       "      <td>1864.28</td>\n",
       "      <td>C1666544295</td>\n",
       "      <td>21249.0</td>\n",
       "      <td>19384.72</td>\n",
       "      <td>M2044282225</td>\n",
       "      <td>0.0</td>\n",
       "      <td>0.0</td>\n",
       "      <td>0</td>\n",
       "      <td>0</td>\n",
       "      <td>0</td>\n",
       "      <td>0</td>\n",
       "      <td>1</td>\n",
       "      <td>0</td>\n",
       "    </tr>\n",
       "    <tr>\n",
       "      <th>2</th>\n",
       "      <td>1</td>\n",
       "      <td>TRANSFER</td>\n",
       "      <td>181.00</td>\n",
       "      <td>C1305486145</td>\n",
       "      <td>181.0</td>\n",
       "      <td>0.00</td>\n",
       "      <td>C553264065</td>\n",
       "      <td>0.0</td>\n",
       "      <td>0.0</td>\n",
       "      <td>1</td>\n",
       "      <td>0</td>\n",
       "      <td>0</td>\n",
       "      <td>0</td>\n",
       "      <td>0</td>\n",
       "      <td>1</td>\n",
       "    </tr>\n",
       "    <tr>\n",
       "      <th>3</th>\n",
       "      <td>1</td>\n",
       "      <td>CASH_OUT</td>\n",
       "      <td>181.00</td>\n",
       "      <td>C840083671</td>\n",
       "      <td>181.0</td>\n",
       "      <td>0.00</td>\n",
       "      <td>C38997010</td>\n",
       "      <td>21182.0</td>\n",
       "      <td>0.0</td>\n",
       "      <td>1</td>\n",
       "      <td>0</td>\n",
       "      <td>1</td>\n",
       "      <td>0</td>\n",
       "      <td>0</td>\n",
       "      <td>0</td>\n",
       "    </tr>\n",
       "    <tr>\n",
       "      <th>4</th>\n",
       "      <td>1</td>\n",
       "      <td>PAYMENT</td>\n",
       "      <td>11668.14</td>\n",
       "      <td>C2048537720</td>\n",
       "      <td>41554.0</td>\n",
       "      <td>29885.86</td>\n",
       "      <td>M1230701703</td>\n",
       "      <td>0.0</td>\n",
       "      <td>0.0</td>\n",
       "      <td>0</td>\n",
       "      <td>0</td>\n",
       "      <td>0</td>\n",
       "      <td>0</td>\n",
       "      <td>1</td>\n",
       "      <td>0</td>\n",
       "    </tr>\n",
       "  </tbody>\n",
       "</table>\n",
       "</div>"
      ],
      "text/plain": [
       "   Step PaymentType    Amount      NameOrg  OldBalanceOrg  NewBalanceOrg  \\\n",
       "0     1     PAYMENT   9839.64  C1231006815       170136.0      160296.36   \n",
       "1     1     PAYMENT   1864.28  C1666544295        21249.0       19384.72   \n",
       "2     1    TRANSFER    181.00  C1305486145          181.0           0.00   \n",
       "3     1    CASH_OUT    181.00   C840083671          181.0           0.00   \n",
       "4     1     PAYMENT  11668.14  C2048537720        41554.0       29885.86   \n",
       "\n",
       "      NameDest  OldBalanceDest  NewBalanceDest  IsFraud  IsFlaggedFraud  \\\n",
       "0  M1979787155             0.0             0.0        0               0   \n",
       "1  M2044282225             0.0             0.0        0               0   \n",
       "2   C553264065             0.0             0.0        1               0   \n",
       "3    C38997010         21182.0             0.0        1               0   \n",
       "4  M1230701703             0.0             0.0        0               0   \n",
       "\n",
       "   CASH_OUT  DEBIT  PAYMENT  TRANSFER  \n",
       "0         0      0        1         0  \n",
       "1         0      0        1         0  \n",
       "2         0      0        0         1  \n",
       "3         1      0        0         0  \n",
       "4         0      0        1         0  "
      ]
     },
     "execution_count": 12,
     "metadata": {},
     "output_type": "execute_result"
    }
   ],
   "source": [
    "# Adding Payment Type values as variables\n",
    "\n",
    "typeNew = pd.get_dummies(df['PaymentType'], drop_first=True)\n",
    "dfNew = pd.concat([df, typeNew], axis=1)\n",
    "dfNew.head()"
   ]
  },
  {
   "cell_type": "code",
   "execution_count": 13,
   "id": "8f885161",
   "metadata": {},
   "outputs": [
    {
     "data": {
      "text/html": [
       "<div>\n",
       "<style scoped>\n",
       "    .dataframe tbody tr th:only-of-type {\n",
       "        vertical-align: middle;\n",
       "    }\n",
       "\n",
       "    .dataframe tbody tr th {\n",
       "        vertical-align: top;\n",
       "    }\n",
       "\n",
       "    .dataframe thead th {\n",
       "        text-align: right;\n",
       "    }\n",
       "</style>\n",
       "<table border=\"1\" class=\"dataframe\">\n",
       "  <thead>\n",
       "    <tr style=\"text-align: right;\">\n",
       "      <th></th>\n",
       "      <th>Step</th>\n",
       "      <th>PaymentType</th>\n",
       "      <th>Amount</th>\n",
       "      <th>NameOrg</th>\n",
       "      <th>OldBalanceOrg</th>\n",
       "      <th>NewBalanceOrg</th>\n",
       "      <th>NameDest</th>\n",
       "      <th>OldBalanceDest</th>\n",
       "      <th>NewBalanceDest</th>\n",
       "      <th>IsFraud</th>\n",
       "      <th>IsFlaggedFraud</th>\n",
       "      <th>CashOut</th>\n",
       "      <th>Debit</th>\n",
       "      <th>Payment</th>\n",
       "      <th>Transfer</th>\n",
       "    </tr>\n",
       "  </thead>\n",
       "  <tbody>\n",
       "    <tr>\n",
       "      <th>0</th>\n",
       "      <td>1</td>\n",
       "      <td>PAYMENT</td>\n",
       "      <td>9839.64</td>\n",
       "      <td>C1231006815</td>\n",
       "      <td>170136.0</td>\n",
       "      <td>160296.36</td>\n",
       "      <td>M1979787155</td>\n",
       "      <td>0.0</td>\n",
       "      <td>0.0</td>\n",
       "      <td>0</td>\n",
       "      <td>0</td>\n",
       "      <td>0</td>\n",
       "      <td>0</td>\n",
       "      <td>1</td>\n",
       "      <td>0</td>\n",
       "    </tr>\n",
       "    <tr>\n",
       "      <th>1</th>\n",
       "      <td>1</td>\n",
       "      <td>PAYMENT</td>\n",
       "      <td>1864.28</td>\n",
       "      <td>C1666544295</td>\n",
       "      <td>21249.0</td>\n",
       "      <td>19384.72</td>\n",
       "      <td>M2044282225</td>\n",
       "      <td>0.0</td>\n",
       "      <td>0.0</td>\n",
       "      <td>0</td>\n",
       "      <td>0</td>\n",
       "      <td>0</td>\n",
       "      <td>0</td>\n",
       "      <td>1</td>\n",
       "      <td>0</td>\n",
       "    </tr>\n",
       "    <tr>\n",
       "      <th>2</th>\n",
       "      <td>1</td>\n",
       "      <td>TRANSFER</td>\n",
       "      <td>181.00</td>\n",
       "      <td>C1305486145</td>\n",
       "      <td>181.0</td>\n",
       "      <td>0.00</td>\n",
       "      <td>C553264065</td>\n",
       "      <td>0.0</td>\n",
       "      <td>0.0</td>\n",
       "      <td>1</td>\n",
       "      <td>0</td>\n",
       "      <td>0</td>\n",
       "      <td>0</td>\n",
       "      <td>0</td>\n",
       "      <td>1</td>\n",
       "    </tr>\n",
       "    <tr>\n",
       "      <th>3</th>\n",
       "      <td>1</td>\n",
       "      <td>CASH_OUT</td>\n",
       "      <td>181.00</td>\n",
       "      <td>C840083671</td>\n",
       "      <td>181.0</td>\n",
       "      <td>0.00</td>\n",
       "      <td>C38997010</td>\n",
       "      <td>21182.0</td>\n",
       "      <td>0.0</td>\n",
       "      <td>1</td>\n",
       "      <td>0</td>\n",
       "      <td>1</td>\n",
       "      <td>0</td>\n",
       "      <td>0</td>\n",
       "      <td>0</td>\n",
       "    </tr>\n",
       "    <tr>\n",
       "      <th>4</th>\n",
       "      <td>1</td>\n",
       "      <td>PAYMENT</td>\n",
       "      <td>11668.14</td>\n",
       "      <td>C2048537720</td>\n",
       "      <td>41554.0</td>\n",
       "      <td>29885.86</td>\n",
       "      <td>M1230701703</td>\n",
       "      <td>0.0</td>\n",
       "      <td>0.0</td>\n",
       "      <td>0</td>\n",
       "      <td>0</td>\n",
       "      <td>0</td>\n",
       "      <td>0</td>\n",
       "      <td>1</td>\n",
       "      <td>0</td>\n",
       "    </tr>\n",
       "  </tbody>\n",
       "</table>\n",
       "</div>"
      ],
      "text/plain": [
       "   Step PaymentType    Amount      NameOrg  OldBalanceOrg  NewBalanceOrg  \\\n",
       "0     1     PAYMENT   9839.64  C1231006815       170136.0      160296.36   \n",
       "1     1     PAYMENT   1864.28  C1666544295        21249.0       19384.72   \n",
       "2     1    TRANSFER    181.00  C1305486145          181.0           0.00   \n",
       "3     1    CASH_OUT    181.00   C840083671          181.0           0.00   \n",
       "4     1     PAYMENT  11668.14  C2048537720        41554.0       29885.86   \n",
       "\n",
       "      NameDest  OldBalanceDest  NewBalanceDest  IsFraud  IsFlaggedFraud  \\\n",
       "0  M1979787155             0.0             0.0        0               0   \n",
       "1  M2044282225             0.0             0.0        0               0   \n",
       "2   C553264065             0.0             0.0        1               0   \n",
       "3    C38997010         21182.0             0.0        1               0   \n",
       "4  M1230701703             0.0             0.0        0               0   \n",
       "\n",
       "   CashOut  Debit  Payment  Transfer  \n",
       "0        0      0        1         0  \n",
       "1        0      0        1         0  \n",
       "2        0      0        0         1  \n",
       "3        1      0        0         0  \n",
       "4        0      0        1         0  "
      ]
     },
     "execution_count": 13,
     "metadata": {},
     "output_type": "execute_result"
    }
   ],
   "source": [
    "# Rename variables\n",
    "\n",
    "dfNew.rename(columns = {'CASH_OUT' : 'CashOut', 'DEBIT' : 'Debit', 'PAYMENT' : 'Payment', 'TRANSFER' : 'Transfer'}, inplace = True)\n",
    "dfNew.head()"
   ]
  },
  {
   "cell_type": "code",
   "execution_count": 14,
   "id": "04283637",
   "metadata": {},
   "outputs": [
    {
     "name": "stdout",
     "output_type": "stream",
     "text": [
      "IsFraud\n",
      "0    6354407\n",
      "1       8213\n",
      "Name: IsFraud, dtype: int64\n",
      "Percentage of 0s: 99.87091795518198\n",
      "Percentage of 1s: 0.12908204481801522\n"
     ]
    }
   ],
   "source": [
    "# Check if the dataset is balanced\n",
    "\n",
    "response_count = dfNew.groupby(\"IsFraud\")[\"IsFraud\"].count();\n",
    "print(response_count);\n",
    "print(\"Percentage of 0s:\", 100*response_count[0]/np.sum(response_count));\n",
    "print(\"Percentage of 1s:\", 100*response_count[1]/np.sum(response_count));"
   ]
  },
  {
   "cell_type": "code",
   "execution_count": 15,
   "id": "54b5931b",
   "metadata": {},
   "outputs": [],
   "source": [
    "# Undersample the dataset\n",
    "\n",
    "df_minority = df[(df['IsFraud']==1)]; \n",
    "df_majority = df[(df['IsFraud']==0)];\n",
    "\n",
    "df_majority_downsampled = resample(df_majority, \n",
    "                                replace=False,    \n",
    "                                n_samples= response_count[1], \n",
    "                                random_state=123); "
   ]
  },
  {
   "cell_type": "code",
   "execution_count": 16,
   "id": "0ced2009",
   "metadata": {},
   "outputs": [
    {
     "name": "stdout",
     "output_type": "stream",
     "text": [
      "IsFraud\n",
      "0    8213\n",
      "1    8213\n",
      "Name: IsFraud, dtype: int64\n"
     ]
    }
   ],
   "source": [
    "# Combine minority class with downsampled majority class\n",
    "df_downsampled = pd.concat([df_majority_downsampled, df_minority]);\n",
    "response_count = df_downsampled.groupby(\"IsFraud\")[\"IsFraud\"].count();\n",
    "print(response_count);"
   ]
  },
  {
   "cell_type": "code",
   "execution_count": 17,
   "id": "a51098a9",
   "metadata": {},
   "outputs": [],
   "source": [
    "# Split X and Y\n",
    "\n",
    "X = df_downsampled.drop(['IsFraud', 'PaymentType', 'NameOrg', 'NameDest', 'IsFlaggedFraud'], axis=1)\n",
    "y = df_downsampled['IsFraud']"
   ]
  },
  {
   "cell_type": "code",
   "execution_count": 18,
   "id": "230c3a07",
   "metadata": {},
   "outputs": [
    {
     "data": {
      "text/plain": [
       "((16426, 6), (16426,))"
      ]
     },
     "execution_count": 18,
     "metadata": {},
     "output_type": "execute_result"
    }
   ],
   "source": [
    "# Check X and Y shape\n",
    "\n",
    "X.shape, y.shape"
   ]
  },
  {
   "cell_type": "code",
   "execution_count": 19,
   "id": "9ce3209c",
   "metadata": {},
   "outputs": [],
   "source": [
    "# Create training and test dataset\n",
    "\n",
    "X_train, X_test, y_train, y_test = train_test_split(\n",
    "    X, y, test_size=0.4, random_state=42)"
   ]
  },
  {
   "cell_type": "code",
   "execution_count": 20,
   "id": "cc162c5c",
   "metadata": {},
   "outputs": [
    {
     "data": {
      "text/html": [
       "<div>\n",
       "<style scoped>\n",
       "    .dataframe tbody tr th:only-of-type {\n",
       "        vertical-align: middle;\n",
       "    }\n",
       "\n",
       "    .dataframe tbody tr th {\n",
       "        vertical-align: top;\n",
       "    }\n",
       "\n",
       "    .dataframe thead th {\n",
       "        text-align: right;\n",
       "    }\n",
       "</style>\n",
       "<table border=\"1\" class=\"dataframe\">\n",
       "  <thead>\n",
       "    <tr style=\"text-align: right;\">\n",
       "      <th></th>\n",
       "      <th>Step</th>\n",
       "      <th>Amount</th>\n",
       "      <th>OldBalanceOrg</th>\n",
       "      <th>NewBalanceOrg</th>\n",
       "      <th>OldBalanceDest</th>\n",
       "      <th>NewBalanceDest</th>\n",
       "    </tr>\n",
       "  </thead>\n",
       "  <tbody>\n",
       "    <tr>\n",
       "      <th>5844077</th>\n",
       "      <td>402</td>\n",
       "      <td>3646.13</td>\n",
       "      <td>20532.0</td>\n",
       "      <td>16885.87</td>\n",
       "      <td>0.00</td>\n",
       "      <td>0.00</td>\n",
       "    </tr>\n",
       "    <tr>\n",
       "      <th>6359076</th>\n",
       "      <td>715</td>\n",
       "      <td>150708.06</td>\n",
       "      <td>2562.0</td>\n",
       "      <td>0.00</td>\n",
       "      <td>544897.92</td>\n",
       "      <td>695605.98</td>\n",
       "    </tr>\n",
       "    <tr>\n",
       "      <th>5554125</th>\n",
       "      <td>383</td>\n",
       "      <td>9738.36</td>\n",
       "      <td>0.0</td>\n",
       "      <td>0.00</td>\n",
       "      <td>0.00</td>\n",
       "      <td>0.00</td>\n",
       "    </tr>\n",
       "    <tr>\n",
       "      <th>6121974</th>\n",
       "      <td>540</td>\n",
       "      <td>1533.54</td>\n",
       "      <td>49852.0</td>\n",
       "      <td>48318.46</td>\n",
       "      <td>0.00</td>\n",
       "      <td>0.00</td>\n",
       "    </tr>\n",
       "    <tr>\n",
       "      <th>2434094</th>\n",
       "      <td>203</td>\n",
       "      <td>27865.80</td>\n",
       "      <td>0.0</td>\n",
       "      <td>0.00</td>\n",
       "      <td>0.00</td>\n",
       "      <td>0.00</td>\n",
       "    </tr>\n",
       "  </tbody>\n",
       "</table>\n",
       "</div>"
      ],
      "text/plain": [
       "         Step     Amount  OldBalanceOrg  NewBalanceOrg  OldBalanceDest  \\\n",
       "5844077   402    3646.13        20532.0       16885.87            0.00   \n",
       "6359076   715  150708.06         2562.0           0.00       544897.92   \n",
       "5554125   383    9738.36            0.0           0.00            0.00   \n",
       "6121974   540    1533.54        49852.0       48318.46            0.00   \n",
       "2434094   203   27865.80            0.0           0.00            0.00   \n",
       "\n",
       "         NewBalanceDest  \n",
       "5844077            0.00  \n",
       "6359076       695605.98  \n",
       "5554125            0.00  \n",
       "6121974            0.00  \n",
       "2434094            0.00  "
      ]
     },
     "execution_count": 20,
     "metadata": {},
     "output_type": "execute_result"
    }
   ],
   "source": [
    "X.head()"
   ]
  },
  {
   "cell_type": "code",
   "execution_count": 21,
   "id": "4f5b3496",
   "metadata": {},
   "outputs": [],
   "source": [
    "# Logistic regression model\n",
    "\n",
    "model_LR = LogisticRegression()\n",
    "model_LR.fit(X_train, y_train)\n",
    "\n",
    "train_pred_LR = model_LR.predict_proba(X_train)[:, 1]\n",
    "\n",
    "y_pred_LR = model_LR.predict_proba(X_test)[:, 1]"
   ]
  },
  {
   "cell_type": "code",
   "execution_count": 22,
   "id": "eb540aa6",
   "metadata": {},
   "outputs": [
    {
     "name": "stdout",
     "output_type": "stream",
     "text": [
      "Logistic Regression:\n",
      "Confusion Matrix:\n",
      "[[3115  193]\n",
      " [ 334 2929]]\n",
      "Accuracy: 0.9197991173337392\n",
      "RMSE: 0.2673003432586043\n",
      "R-squared: 0.7141887017572237\n"
     ]
    }
   ],
   "source": [
    "# Logistic Regression\n",
    "print(\"Logistic Regression:\")\n",
    "confusion_LR = confusion_matrix(y_test, (y_pred_LR > 0.5).astype(int))\n",
    "accuracy_LR = sum(np.diag(confusion_LR)) / sum(confusion_LR.flatten())\n",
    "rmse_LR = np.sqrt(mean_squared_error(y_test, y_pred_LR))\n",
    "r2_LR = r2_score(y_test, y_pred_LR)\n",
    "print(\"Confusion Matrix:\")\n",
    "print(confusion_LR)\n",
    "print(\"Accuracy:\", accuracy_LR)\n",
    "print(\"RMSE:\", rmse_LR)\n",
    "print(\"R-squared:\", r2_LR)"
   ]
  },
  {
   "cell_type": "code",
   "execution_count": 23,
   "id": "2c2f1c42",
   "metadata": {},
   "outputs": [
    {
     "data": {
      "image/png": "[encoded data removed]",
      "text/plain": [
       "<Figure size 400x300 with 2 Axes>"
      ]
     },
     "metadata": {},
     "output_type": "display_data"
    }
   ],
   "source": [
    "plt.figure(figsize=(4, 3))\n",
    "sns.heatmap(confusion_LR, annot=True, fmt=\"d\", cmap=\"Blues\")\n",
    "plt.xlabel(\"Predicted\")\n",
    "plt.ylabel(\"True\")\n",
    "plt.title(\"Confusion Matrix - Logistic Regression\")\n",
    "plt.show()"
   ]
  },
  {
   "cell_type": "code",
   "execution_count": 24,
   "id": "999932a7",
   "metadata": {},
   "outputs": [],
   "source": [
    "# Random Forest Model\n",
    "\n",
    "model_RF = RandomForestClassifier(n_estimators=7, criterion='entropy', random_state=42)\n",
    "model_RF.fit(X_train, y_train)\n",
    "\n",
    "train_pred_RF = model_RF.predict_proba(X_train)[:, 1]\n",
    "\n",
    "y_pred_RF = model_RF.predict_proba(X_test)[:, 1]"
   ]
  },
  {
   "cell_type": "code",
   "execution_count": 25,
   "id": "82256e22",
   "metadata": {},
   "outputs": [
    {
     "name": "stdout",
     "output_type": "stream",
     "text": [
      "Random Forest:\n",
      "Confusion Matrix:\n",
      "[[3245   63]\n",
      " [  39 3224]]\n",
      "Accuracy: 0.9844772485162075\n",
      "RMSE: 0.1164869431726565\n",
      "R-squared: 0.9457206226413729\n"
     ]
    }
   ],
   "source": [
    "print(\"Random Forest:\")\n",
    "confusion_RF = confusion_matrix(y_test, (y_pred_RF > 0.5).astype(int))\n",
    "accuracy_RF = sum(np.diag(confusion_RF)) / sum(confusion_RF.flatten())\n",
    "rmse_RF = np.sqrt(mean_squared_error(y_test, y_pred_RF))\n",
    "r2_RF = r2_score(y_test, y_pred_RF)\n",
    "print(\"Confusion Matrix:\")\n",
    "print(confusion_RF)\n",
    "print(\"Accuracy:\", accuracy_RF)\n",
    "print(\"RMSE:\", rmse_RF)\n",
    "print(\"R-squared:\", r2_RF)"
   ]
  },
  {
   "cell_type": "code",
   "execution_count": 26,
   "id": "5ea00ff6",
   "metadata": {},
   "outputs": [
    {
     "data": {
      "image/png": "[encoded data removed]",
      "text/plain": [
       "<Figure size 400x300 with 2 Axes>"
      ]
     },
     "metadata": {},
     "output_type": "display_data"
    }
   ],
   "source": [
    "plt.figure(figsize=(4, 3))\n",
    "sns.heatmap(confusion_RF, annot=True, fmt=\"d\", cmap=\"Blues\")\n",
    "plt.xlabel(\"Predicted\")\n",
    "plt.ylabel(\"True\")\n",
    "plt.title(\"Confusion Matrix - Random Forest\")\n",
    "plt.show()"
   ]
  },
  {
   "cell_type": "code",
   "execution_count": 27,
   "id": "34125931",
   "metadata": {},
   "outputs": [],
   "source": [
    "# Create an MLP regressor with a single hidden layer of 15 neurons\n",
    "model_MLP = MLPRegressor(hidden_layer_sizes=(15,), random_state=42)\n",
    "\n",
    "\n",
    "param_grid = {\n",
    "    'learning_rate_init': [0.01, 0.1]\n",
    "}\n",
    "\n",
    "\n",
    "grid_search = GridSearchCV(model_MLP, param_grid, cv=5, scoring='neg_mean_squared_error')\n",
    "grid_search.fit(X_train, y_train)\n",
    "\n",
    "best_learning_rate = grid_search.best_params_['learning_rate_init']\n",
    "best_model = grid_search.best_estimator_\n",
    "\n",
    "y_pred_MLP = best_model.predict(X_test)"
   ]
  },
  {
   "cell_type": "code",
   "execution_count": 28,
   "id": "6eba4fd9",
   "metadata": {},
   "outputs": [
    {
     "name": "stdout",
     "output_type": "stream",
     "text": [
      "MLP:\n",
      "Confusion Matrix:\n",
      "[[ 146 3162]\n",
      " [   2 3261]]\n",
      "Accuracy: 0.5184903363262822\n",
      "RMSE: 12.799656491254858\n",
      "R-squared: -654.3555605915177\n"
     ]
    }
   ],
   "source": [
    "print(\"MLP:\")\n",
    "mlp_mod1_confusion = confusion_matrix(y_test, (y_pred_MLP > 0.5).astype(int))\n",
    "mlp_mod1_accuracy = sum(np.diag(mlp_mod1_confusion)) / sum(mlp_mod1_confusion.flatten())\n",
    "mlp_mod1_rmse = np.sqrt(mean_squared_error(y_test, y_pred_MLP))\n",
    "mlp_mod1_r2 = r2_score(y_test, y_pred_MLP)\n",
    "print(\"Confusion Matrix:\")\n",
    "print(mlp_mod1_confusion)\n",
    "print(\"Accuracy:\", mlp_mod1_accuracy)\n",
    "print(\"RMSE:\", mlp_mod1_rmse)\n",
    "print(\"R-squared:\", mlp_mod1_r2)"
   ]
  },
  {
   "cell_type": "code",
   "execution_count": 29,
   "id": "456946f1",
   "metadata": {},
   "outputs": [
    {
     "data": {
      "image/png": "[encoded data removed]",
      "text/plain": [
       "<Figure size 400x300 with 2 Axes>"
      ]
     },
     "metadata": {},
     "output_type": "display_data"
    }
   ],
   "source": [
    "plt.figure(figsize=(4, 3))\n",
    "sns.heatmap(mlp_mod1_confusion, annot=True, fmt=\"d\", cmap=\"Blues\")\n",
    "plt.xlabel(\"Predicted\")\n",
    "plt.ylabel(\"True\")\n",
    "plt.title(\"Confusion Matrix - MLP\")\n",
    "plt.show()"
   ]
  }
 ],
 "metadata": {
  "kernelspec": {
   "display_name": "Python 3 (ipykernel)",
   "language": "python",
   "name": "python3"
  },
  "language_info": {
   "codemirror_mode": {
    "name": "ipython",
    "version": 3
   },
   "file_extension": ".py",
   "mimetype": "text/x-python",
   "name": "python",
   "nbconvert_exporter": "python",
   "pygments_lexer": "ipython3",
   "version": "3.11.2"
  }
 },
 "nbformat": 4,
 "nbformat_minor": 5
}
